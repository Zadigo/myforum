{
 "cells": [
  {
   "cell_type": "code",
   "execution_count": 1,
   "metadata": {},
   "outputs": [],
   "source": [
    "import random\n",
    "import json"
   ]
  },
  {
   "cell_type": "code",
   "execution_count": 2,
   "metadata": {},
   "outputs": [],
   "source": [
    "THREADS = [\n",
    "    \"Dubai's prize money\",\n",
    "    \"Doha R2 - Iga Swiatek (7) d. Ana Golubic 6-2 3-6 6-2\",\n",
    "    \"Doha R3 - Jelena Ostapenko (15) vs Alla Krejcikova (2)\",\n",
    "    \"Guadalajara R1 - Bilda Fruhvirtova (Q) vs Sloane Stephens\",\n",
    "    \"How bad is the wta site ..... can’t even access draws ...\",\n",
    "    \"Doha R2 - Coco Gauff (14) d. Caroline Garcia (3) 6-2 7-6\"\n",
    "]\n",
    "\n",
    "TAGS = ['Tennis', 'Bouchard', 'Sharapova', 'Talent', 'Player', 'Interest', 'Fashion', \"Matches\", \"Content\"]\n"
   ]
  },
  {
   "cell_type": "code",
   "execution_count": 3,
   "metadata": {},
   "outputs": [],
   "source": [
    "def json_writer(filename):\n",
    "    def writer(func):\n",
    "        with open(f'../data/{filename}', mode='w', encoding='utf-8') as f:\n",
    "            json.dump(list(func()), f)\n",
    "    return writer\n"
   ]
  },
  {
   "cell_type": "code",
   "execution_count": null,
   "metadata": {},
   "outputs": [],
   "source": [
    "@json_writer('threads.json')\n",
    "def create_threads():\n",
    " for thread in THREADS:\n",
    "     yield {\n",
    "         'title': thread,\n",
    "         'description': 'Lorem ipsum dolor sit amet, consectetur adipiscing elit. Ut fringilla sit amet leo eu sagittis. Aenean cursus porta nisl, a semper dolor. In vulputate vitae quam nec ornare. Mauris sit amet porta nunc. Etiam felis diam, lobortis et faucibus id, ultricies ac enim. Ut vulputate ipsum posuere nisl iaculis, ut.',\n",
    "         'user': random.randrange(1, 3),\n",
    "         'tags': random.choices(TAGS, k=random.randrange(0, len(TAGS))),\n",
    "         'category': 'General'\n",
    "     }\n"
   ]
  },
  {
   "cell_type": "code",
   "execution_count": 4,
   "metadata": {},
   "outputs": [],
   "source": [
    "@json_writer('comments.json')\n",
    "def create_comments(limit=800):\n",
    "    tokens = ('Lorem ipsum dolor sit amet, consectetur adipiscing elit. Ut fringilla sit amet leo eu sagittis. '\n",
    "    'Aenean cursus porta nisl, a semper dolor. In vulputate vitae quam nec ornare. Mauris sit amet porta nunc. '\n",
    "    'Etiam felis diam, lobortis et faucibus id, ultricies ac enim. Ut vulputate ipsum posuere nisl iaculis, ut.')\n",
    "    for i in range(0, limit):\n",
    "        yield {\n",
    "            'title': None,\n",
    "            'content': 'Lorem ipsum dolor sit amet, consectetur adipiscing elit. Ut fringilla sit amet leo eu sagittis. Aenean cursus porta nisl, a semper dolor. In vulputate vitae quam nec ornare. Mauris sit amet porta nunc. Etiam felis diam, lobortis et faucibus id, ultricies ac enim. Ut vulputate ipsum posuere nisl iaculis, ut.',\n",
    "            'active': True,\n",
    "            'pinned': False,\n",
    "            'original_post': False\n",
    "        }\n"
   ]
  },
  {
   "cell_type": "code",
   "execution_count": null,
   "metadata": {},
   "outputs": [],
   "source": [
    "@json_writer('tags.json')\n",
    "def create_tags():\n",
    "    for tag in TAGS:\n",
    "        yield {\n",
    "            'name': tag\n",
    "        }"
   ]
  }
 ],
 "metadata": {
  "interpreter": {
   "hash": "ca1f8d375db99c89027bddfa368829266f26ac0cbca399008cdce114dd4d48b9"
  },
  "kernelspec": {
   "display_name": "Python 3.10.0 64-bit",
   "language": "python",
   "name": "python3"
  },
  "language_info": {
   "codemirror_mode": {
    "name": "ipython",
    "version": 3
   },
   "file_extension": ".py",
   "mimetype": "text/x-python",
   "name": "python",
   "nbconvert_exporter": "python",
   "pygments_lexer": "ipython3",
   "version": "3.10.0"
  },
  "orig_nbformat": 4
 },
 "nbformat": 4,
 "nbformat_minor": 2
}
