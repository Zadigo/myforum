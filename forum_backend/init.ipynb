{
 "cells": [
  {
   "cell_type": "code",
   "execution_count": 1,
   "metadata": {},
   "outputs": [],
   "source": [
    "import os\n",
    "import django\n",
    "import json\n",
    "import random\n",
    "import pathlib\n",
    "import time\n",
    "from django.conf import settings\n",
    "from random import choice\n",
    "from django.contrib.auth import get_user_model\n",
    "from psycopg import connect"
   ]
  },
  {
   "cell_type": "code",
   "execution_count": 2,
   "metadata": {},
   "outputs": [],
   "source": [
    "# connect()"
   ]
  },
  {
   "cell_type": "code",
   "execution_count": 3,
   "metadata": {},
   "outputs": [],
   "source": [
    "BASE_DIR = pathlib.Path('.')\n",
    "\n",
    "settings.configure(\n",
    "    BASE_DIR = BASE_DIR,\n",
    "    INSTALLED_APPS=[\n",
    "        'django.contrib.admin',\n",
    "        'django.contrib.auth',\n",
    "        'django.contrib.contenttypes',\n",
    "        'django.contrib.sessions',\n",
    "        'django.contrib.messages',\n",
    "        'django.contrib.staticfiles',\n",
    "        \n",
    "        'api',\n",
    "        'accounts',\n",
    "        'threads',\n",
    "        'notifications',\n",
    "        'polls',\n",
    "        'forums',\n",
    "        'comments',\n",
    "        'tags',\n",
    "        'moderation'\n",
    "    ],\n",
    "    DATABASES={\n",
    "        'default': {\n",
    "            'ENGINE': 'django.db.backends.sqlite3',\n",
    "            'NAME': BASE_DIR.joinpath('db.sqlite3'),\n",
    "        }\n",
    "    },\n",
    "    MEDIA_ROOT=BASE_DIR.joinpath('media'),\n",
    "    AUTH_USER_MODEL = 'accounts.MyUser'\n",
    ")\n"
   ]
  },
  {
   "cell_type": "code",
   "execution_count": 4,
   "metadata": {},
   "outputs": [],
   "source": [
    "os.environ['DJANGO_ALLOW_ASYNC_UNSAFE'] = 'True'\n",
    "\n",
    "django.setup()"
   ]
  },
  {
   "cell_type": "code",
   "execution_count": 5,
   "metadata": {},
   "outputs": [],
   "source": [
    "from comments.models import Comment\n",
    "from threads.models import MainThread\n",
    "from forums.models import Forum\n",
    "from django.contrib.auth import get_user_model\n",
    "from tags.models import Tag"
   ]
  },
  {
   "cell_type": "code",
   "execution_count": 6,
   "metadata": {},
   "outputs": [],
   "source": [
    "user_model = get_user_model()"
   ]
  },
  {
   "cell_type": "code",
   "execution_count": 7,
   "metadata": {},
   "outputs": [],
   "source": [
    "def create_random_users():\n",
    "    usernames = ['geniefan', 'vikapower', 'laurelie', 'juvisan', 'power to us', 'hallelujiah']\n",
    "    for username in usernames:\n",
    "        try:\n",
    "            user_model.objects.create_user(username, email=f'{username}@yopmail.com', password='touparet')\n",
    "        except:\n",
    "            user_model.objects.get(username=username)"
   ]
  },
  {
   "cell_type": "code",
   "execution_count": 8,
   "metadata": {},
   "outputs": [],
   "source": [
    "create_random_users()"
   ]
  },
  {
   "cell_type": "code",
   "execution_count": 9,
   "metadata": {},
   "outputs": [],
   "source": [
    "USERS = user_model.objects.all()"
   ]
  },
  {
   "cell_type": "code",
   "execution_count": 10,
   "metadata": {},
   "outputs": [],
   "source": [
    "def create_threads(): \n",
    "    with open('./data/threads.json', encoding='utf-8') as f:\n",
    "        data = json.load(f)\n",
    "        forum = Forum.objects.first()\n",
    "        for thread in data:\n",
    "            tags = thread.pop('tags')\n",
    "            user_id = thread.pop('user')\n",
    "            \n",
    "            MainThread.objects.create(user=random.choice(USERS), forum=forum, **thread)"
   ]
  },
  {
   "cell_type": "code",
   "execution_count": 11,
   "metadata": {},
   "outputs": [],
   "source": [
    "create_threads()"
   ]
  },
  {
   "cell_type": "code",
   "execution_count": 12,
   "metadata": {},
   "outputs": [],
   "source": [
    "THREADS = MainThread.objects.all()"
   ]
  },
  {
   "cell_type": "code",
   "execution_count": 13,
   "metadata": {},
   "outputs": [],
   "source": [
    "def create_comments():\n",
    "    with open('./data/comments.json', encoding='utf-8') as f:\n",
    "        data = json.load(f)\n",
    "        for thread in THREADS:\n",
    "            number_of_comments = random.randrange(30, 110)\n",
    "            comments = random.sample(data, k=number_of_comments)\n",
    "            for comment in comments:\n",
    "                thread.comment_set.create(user=random.choice(USERS), **comment)\n",
    "                      "
   ]
  },
  {
   "cell_type": "code",
   "execution_count": 14,
   "metadata": {},
   "outputs": [],
   "source": [
    "create_comments()"
   ]
  }
 ],
 "metadata": {
  "interpreter": {
   "hash": "ca1f8d375db99c89027bddfa368829266f26ac0cbca399008cdce114dd4d48b9"
  },
  "kernelspec": {
   "display_name": "Python 3.10.0 64-bit",
   "language": "python",
   "name": "python3"
  },
  "language_info": {
   "codemirror_mode": {
    "name": "ipython",
    "version": 3
   },
   "file_extension": ".py",
   "mimetype": "text/x-python",
   "name": "python",
   "nbconvert_exporter": "python",
   "pygments_lexer": "ipython3",
   "version": "3.10.0"
  },
  "orig_nbformat": 4
 },
 "nbformat": 4,
 "nbformat_minor": 2
}
